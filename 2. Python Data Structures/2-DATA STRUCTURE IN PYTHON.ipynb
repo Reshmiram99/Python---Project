{
 "cells": [
  {
   "cell_type": "code",
   "execution_count": null,
   "id": "23e9ccad-ab7c-432e-85ea-acdb4bfcb987",
   "metadata": {},
   "outputs": [],
   "source": [
    "Lists"
   ]
  },
  {
   "cell_type": "code",
   "execution_count": 11,
   "id": "0864c37a-f693-4c8a-bb1e-6c93013a7d36",
   "metadata": {},
   "outputs": [
    {
     "name": "stdout",
     "output_type": "stream",
     "text": [
      "List of random numbers: [34, 58, 43, 73, 29]\n"
     ]
    }
   ],
   "source": [
    "# Q1. Create a list of 5 random numbers and print the list\n",
    "\n",
    "import random\n",
    "random_list = [random.randint(1,100) for _ in range(5)]\n",
    "print(\"List of random numbers:\",random_list)"
   ]
  },
  {
   "cell_type": "code",
   "execution_count": 13,
   "id": "e34db24c-e386-4b46-bddd-cdeb24db48cc",
   "metadata": {},
   "outputs": [
    {
     "name": "stdout",
     "output_type": "stream",
     "text": [
      "Updated list: [34, 58, 43, 73, 29, 105, 126, 166]\n"
     ]
    }
   ],
   "source": [
    "# Q2. Insert 3 new values to the list and print the updated list\n",
    "\n",
    "random_list.extend([105,126,166])\n",
    "print(\"Updated list:\",random_list)"
   ]
  },
  {
   "cell_type": "code",
   "execution_count": 15,
   "id": "4d160a22-231c-45e5-85a5-af923c7b0634",
   "metadata": {},
   "outputs": [
    {
     "name": "stdout",
     "output_type": "stream",
     "text": [
      "34\n",
      "58\n",
      "43\n",
      "73\n",
      "29\n",
      "105\n",
      "126\n",
      "166\n"
     ]
    }
   ],
   "source": [
    "# Q3. Use a for loop to print each element in the list\n",
    "\n",
    "for num in random_list:\n",
    "    print(num)"
   ]
  },
  {
   "cell_type": "code",
   "execution_count": null,
   "id": "beda1ee8-2873-40ce-a635-ec24ef9f7f20",
   "metadata": {},
   "outputs": [],
   "source": [
    "Dictionary"
   ]
  },
  {
   "cell_type": "code",
   "execution_count": 19,
   "id": "a481383f-aadb-4f2c-9cdd-54b78c724f3a",
   "metadata": {},
   "outputs": [
    {
     "name": "stdout",
     "output_type": "stream",
     "text": [
      "Dictionary: {'name': 'John', 'age': 25, 'address': 'New york'}\n"
     ]
    }
   ],
   "source": [
    "# Q1. Create a dictionary with given keys and values\n",
    "\n",
    "person_details = {'name' : 'John', 'age' : 25, 'address' : 'New york'}\n",
    "print(\"Dictionary:\",person_details)"
   ]
  },
  {
   "cell_type": "code",
   "execution_count": 21,
   "id": "0d2f39f0-164b-4dfa-bebe-ae6d77c5b693",
   "metadata": {},
   "outputs": [
    {
     "name": "stdout",
     "output_type": "stream",
     "text": [
      "Updated dictionary: {'name': 'John', 'age': 25, 'address': 'New york', 'phone': '1234567890'}\n"
     ]
    }
   ],
   "source": [
    "# Q2. Add a new key value pair to created dictionary\n",
    "\n",
    "person_details['phone'] = '1234567890'\n",
    "print(\"Updated dictionary:\" ,person_details)"
   ]
  },
  {
   "cell_type": "code",
   "execution_count": null,
   "id": "ebcdb575-6948-47b5-9065-ca16d147203f",
   "metadata": {},
   "outputs": [],
   "source": [
    "Set"
   ]
  },
  {
   "cell_type": "code",
   "execution_count": 23,
   "id": "12be1f1f-76d9-4386-8476-fecb5cd43088",
   "metadata": {},
   "outputs": [
    {
     "name": "stdout",
     "output_type": "stream",
     "text": [
      "Set: {1, 2, 3, 4, 5}\n"
     ]
    }
   ],
   "source": [
    "# Q1. Create a set with values 1,2,3,4, and 5\n",
    "\n",
    "numbers_set = {1, 2, 3, 4, 5}\n",
    "print(\"Set:\", numbers_set)"
   ]
  },
  {
   "cell_type": "code",
   "execution_count": 25,
   "id": "add731fc-a9d8-49b8-bef1-191795d057b3",
   "metadata": {},
   "outputs": [
    {
     "name": "stdout",
     "output_type": "stream",
     "text": [
      "Set after removing: {1, 2, 4, 5}\n"
     ]
    }
   ],
   "source": [
    "# Q3. Remove the value 3 from the set created\n",
    "\n",
    "numbers_set.remove(3)\n",
    "print(\"Set after removing:\", numbers_set)"
   ]
  },
  {
   "cell_type": "code",
   "execution_count": null,
   "id": "465ab385-79ba-4d86-877c-8dc8b06e6258",
   "metadata": {},
   "outputs": [],
   "source": [
    "Tuple"
   ]
  },
  {
   "cell_type": "code",
   "execution_count": 27,
   "id": "a4712e95-c575-4b7d-9c2d-0cb89d46a9be",
   "metadata": {},
   "outputs": [
    {
     "name": "stdout",
     "output_type": "stream",
     "text": [
      "Tuple: (1, 2, 3, 4)\n"
     ]
    }
   ],
   "source": [
    "# Q1. Create tuple with values 1,2,3, and 4\n",
    "\n",
    "numbers_tuple = (1, 2, 3, 4)\n",
    "print(\"Tuple:\", numbers_tuple)"
   ]
  },
  {
   "cell_type": "code",
   "execution_count": 29,
   "id": "f12b0e13-3c97-45bb-bfcc-9ad7b514f70d",
   "metadata": {},
   "outputs": [
    {
     "name": "stdout",
     "output_type": "stream",
     "text": [
      "Lenght of Tuple: 4\n"
     ]
    }
   ],
   "source": [
    "# Q2. print the length of tuple created\n",
    "\n",
    "print(\"Lenght of Tuple:\",len(numbers_tuple))"
   ]
  },
  {
   "cell_type": "code",
   "execution_count": null,
   "id": "f56568f2-55f0-47b0-8b69-577343b7757a",
   "metadata": {},
   "outputs": [],
   "source": []
  }
 ],
 "metadata": {
  "kernelspec": {
   "display_name": "Python [conda env:base] *",
   "language": "python",
   "name": "conda-base-py"
  },
  "language_info": {
   "codemirror_mode": {
    "name": "ipython",
    "version": 3
   },
   "file_extension": ".py",
   "mimetype": "text/x-python",
   "name": "python",
   "nbconvert_exporter": "python",
   "pygments_lexer": "ipython3",
   "version": "3.12.7"
  }
 },
 "nbformat": 4,
 "nbformat_minor": 5
}
