{
 "cells": [
  {
   "cell_type": "code",
   "execution_count": null,
   "id": "7eb86d75-2760-424c-8e2e-0a4aaf01d120",
   "metadata": {},
   "outputs": [],
   "source": [
    "Exercise 1"
   ]
  },
  {
   "cell_type": "code",
   "execution_count": 9,
   "id": "6a8ae38e-e2dc-49fd-9eb2-19bd98ddb4f7",
   "metadata": {},
   "outputs": [
    {
     "name": "stdout",
     "output_type": "stream",
     "text": [
      "The sum of 2 and 10 is: 12\n",
      "The sum of 2 and 5 is: 7\n",
      "The product of 2,5 and 4 is: 40\n"
     ]
    }
   ],
   "source": [
    "# Print sum of the first two arguments if the third argument is none and printing the product of all three arguments if the third argument is not None\n",
    "\n",
    "def calculations(a, b=10, c=None):\n",
    "    if c is None:\n",
    "        print(f\"The sum of {a} and {b} is:\",(a+b))\n",
    "    else:\n",
    "        print(f\"The product of {a},{b} and {c} is:\",(a*b*c))\n",
    "\n",
    "calculations(2)\n",
    "calculations(2,5)\n",
    "calculations(2,5,4)"
   ]
  },
  {
   "cell_type": "code",
   "execution_count": null,
   "id": "437b99a0-856d-492f-84ee-364e8ebd8907",
   "metadata": {},
   "outputs": [],
   "source": [
    "Exercise 2"
   ]
  },
  {
   "cell_type": "code",
   "execution_count": 12,
   "id": "5db21db2-4ec2-41b4-b3e2-a67e2cbecbd9",
   "metadata": {},
   "outputs": [
    {
     "name": "stdout",
     "output_type": "stream",
     "text": [
      "The string greater than 5 is: ['pigeon', 'elephent']\n"
     ]
    }
   ],
   "source": [
    "# A list of strings returns as a new list with only the strings greater than or equal to five\n",
    "\n",
    "def long_strings(strings):\n",
    "    return[ s for s in strings if len(s)>=5]\n",
    "    \n",
    "strings = [\"cat\",\"dog\",\"pigeon\",\"elephent\",\"ant\"]\n",
    "result = long_strings(strings)\n",
    "print(f\"The string greater than 5 is:\",result)"
   ]
  },
  {
   "cell_type": "code",
   "execution_count": null,
   "id": "218c67af-9582-45c5-a01f-e09961153986",
   "metadata": {},
   "outputs": [],
   "source": [
    "Exercise 3"
   ]
  },
  {
   "cell_type": "code",
   "execution_count": 14,
   "id": "f3712d9a-ad57-464a-ad6a-244936ffd2e6",
   "metadata": {},
   "outputs": [
    {
     "name": "stdout",
     "output_type": "stream",
     "text": [
      "17\n"
     ]
    }
   ],
   "source": [
    "# Evaluating a given mathematical expression using eval() function\n",
    "\n",
    "expression = \"3*5+2\"\n",
    "result = eval(expression)\n",
    "print(result)"
   ]
  },
  {
   "cell_type": "code",
   "execution_count": null,
   "id": "917e0af1-3dec-434d-bb40-ea7b18f3ebbc",
   "metadata": {},
   "outputs": [],
   "source": [
    "Exercise 4"
   ]
  },
  {
   "cell_type": "code",
   "execution_count": 16,
   "id": "73e0d1e1-f8bd-488a-b998-63326411d44b",
   "metadata": {},
   "outputs": [
    {
     "name": "stdout",
     "output_type": "stream",
     "text": [
      "[2, 5, 3, 7, 13]\n"
     ]
    }
   ],
   "source": [
    "# Filter out the prime numbers from a given list of integers using filter() function\n",
    "\n",
    "def prime_numbers_list(n):\n",
    "    if n <= 1:\n",
    "        return False\n",
    "    for i in range (2,int(n**0.5)+1):\n",
    "        if n % i == 0:\n",
    "            return False\n",
    "    return True\n",
    "\n",
    "numbers = [2,5,8,9,6,3,7,4,1,12,13,36,54,]\n",
    "prime_numbers = list(filter(prime_numbers_list,numbers))\n",
    "print(prime_numbers)"
   ]
  },
  {
   "cell_type": "code",
   "execution_count": null,
   "id": "e2238135-471b-4e9c-bf55-5c5f8447eeec",
   "metadata": {},
   "outputs": [],
   "source": [
    "Exercise 5"
   ]
  },
  {
   "cell_type": "code",
   "execution_count": 18,
   "id": "1c89dea3-294e-4d52-b1c1-1a1f6e4985cd",
   "metadata": {},
   "outputs": [
    {
     "name": "stdout",
     "output_type": "stream",
     "text": [
      "['HELLO', 'WORLD', 'PYTHON', 'IS', 'FUN']\n"
     ]
    }
   ],
   "source": [
    "# Converting a list of strings to uppercase using the map() function\n",
    "    \n",
    "words = [\"hello\", \"world\", \"python\", \"is\", \"fun\"]\n",
    "uppercase_words = list(map(str.upper, words))\n",
    "print(uppercase_words)"
   ]
  },
  {
   "cell_type": "code",
   "execution_count": null,
   "id": "95fcb717-5baf-4316-a077-3a704fc492aa",
   "metadata": {},
   "outputs": [],
   "source": []
  }
 ],
 "metadata": {
  "kernelspec": {
   "display_name": "Python [conda env:base] *",
   "language": "python",
   "name": "conda-base-py"
  },
  "language_info": {
   "codemirror_mode": {
    "name": "ipython",
    "version": 3
   },
   "file_extension": ".py",
   "mimetype": "text/x-python",
   "name": "python",
   "nbconvert_exporter": "python",
   "pygments_lexer": "ipython3",
   "version": "3.12.7"
  }
 },
 "nbformat": 4,
 "nbformat_minor": 5
}
