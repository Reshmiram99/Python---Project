{
 "cells": [
  {
   "cell_type": "code",
   "execution_count": null,
   "id": "b5df8b1a-de30-41c2-a0b3-1a3a88693fac",
   "metadata": {},
   "outputs": [],
   "source": [
    "# Creating file for running with the programs\n",
    "\n",
    "with open ('Demo_file.txt','w') as file:\n",
    "    file.write (\"Hello, This is demo file creating for showing the output of read the file and display the content\")"
   ]
  },
  {
   "cell_type": "code",
   "execution_count": null,
   "id": "695db2b5-11e9-4126-a113-7c385f5a176a",
   "metadata": {},
   "outputs": [],
   "source": [
    "Excercise 1"
   ]
  },
  {
   "cell_type": "code",
   "execution_count": 8,
   "id": "2ab7e593-de1a-42e5-95db-af6af1cdba30",
   "metadata": {},
   "outputs": [
    {
     "name": "stdout",
     "output_type": "stream",
     "text": [
      "Content of the opened file is:\n",
      "Hello, This is demo file creating for showing the output of read the file and display the content\n"
     ]
    }
   ],
   "source": [
    "# Reading a file and display its contents\n",
    "\n",
    "with open ('Demo_file.txt','r') as file:\n",
    "    content = file.read()\n",
    "    print(\"Content of the opened file is:\")\n",
    "    print(content)"
   ]
  },
  {
   "cell_type": "code",
   "execution_count": null,
   "id": "c9a89e76-d70b-411f-82c7-d22c7183c06f",
   "metadata": {},
   "outputs": [],
   "source": [
    "Excercise 2"
   ]
  },
  {
   "cell_type": "code",
   "execution_count": 10,
   "id": "c018e215-ed7a-44fa-8634-ac4646d3f5e3",
   "metadata": {},
   "outputs": [
    {
     "name": "stdout",
     "output_type": "stream",
     "text": [
      "File copied sucessfully\n"
     ]
    }
   ],
   "source": [
    "# Copy the contents of one file to another file\n",
    "\n",
    "with open ('Demo_file.txt','r') as existing, open ('Demo_file_new.txt','w') as newfile:\n",
    "     newfile.write(existing.read())\n",
    "print(\"File copied sucessfully\")"
   ]
  },
  {
   "cell_type": "code",
   "execution_count": null,
   "id": "1d2ea215-5166-4249-8783-332a5ad8ba35",
   "metadata": {},
   "outputs": [],
   "source": [
    "Excercise 3"
   ]
  },
  {
   "cell_type": "code",
   "execution_count": 12,
   "id": "c96ff800-17b5-4dda-a18e-74282a890a8b",
   "metadata": {},
   "outputs": [
    {
     "name": "stdout",
     "output_type": "stream",
     "text": [
      "Total number of words in the file is: 18\n"
     ]
    }
   ],
   "source": [
    "# reading the content of file and counting the total number of words in that file \n",
    "\n",
    "with open ('Demo_file_new.txt','r') as file:\n",
    "    content = file.read()\n",
    "    words = content.split()\n",
    "    words_count = len(words)\n",
    "    print(\"Total number of words in the file is:\",words_count)"
   ]
  },
  {
   "cell_type": "code",
   "execution_count": null,
   "id": "f1c92d1b-f968-4dcc-9959-d9c8027c5698",
   "metadata": {},
   "outputs": [],
   "source": [
    "Excercise 4"
   ]
  },
  {
   "cell_type": "code",
   "execution_count": 16,
   "id": "ffe0a478-9978-4802-a92f-50e0ff52435f",
   "metadata": {},
   "outputs": [
    {
     "name": "stdin",
     "output_type": "stream",
     "text": [
      "Enter a number:  2d\n"
     ]
    },
    {
     "name": "stdout",
     "output_type": "stream",
     "text": [
      "Error: Invalid input. Please enter a valid integer.\n"
     ]
    }
   ],
   "source": [
    "# input a string and converts it to an integer, use try-except to block to handle exceptions\n",
    "\n",
    "def converting_to_integer():\n",
    "    try:\n",
    "        number = int(input(\"Enter a number: \"))\n",
    "        print(f\"Success!!! The integer value is {number}.\")\n",
    "    except ValueError:\n",
    "        print(\"Error: Invalid input. Please enter a valid integer.\")\n",
    "\n",
    "converting_to_integer()"
   ]
  },
  {
   "cell_type": "code",
   "execution_count": null,
   "id": "a7827365-594e-43db-80d3-13d17fa94e20",
   "metadata": {},
   "outputs": [],
   "source": [
    "Excercise 5"
   ]
  },
  {
   "cell_type": "code",
   "execution_count": 18,
   "id": "952e743d-3a20-4f51-b411-82ccbc7f1034",
   "metadata": {},
   "outputs": [
    {
     "name": "stdin",
     "output_type": "stream",
     "text": [
      "Enter a list of integers separated by spaces: 4 6 8 9 11 15 16 20 28\n"
     ]
    },
    {
     "name": "stdout",
     "output_type": "stream",
     "text": [
      "You entered a valid list of positive integers: [4, 6, 8, 9, 11, 15, 16, 20, 28]\n"
     ]
    }
   ],
   "source": [
    "# input a list of integers and raise an exception if any of the integers are negative\n",
    "\n",
    "def get_integers():\n",
    "    try:\n",
    "        user_input = input(\"Enter a list of integers separated by spaces:\")\n",
    "        numbers = list(map(int,user_input.split()))\n",
    "        for num in numbers:        \n",
    "            if num < 0:\n",
    "                raise valueError(\"Negative numbers are not allowed.\")\n",
    "        print(\"You entered a valid list of positive integers:\",numbers)\n",
    "    except ValueError as e:\n",
    "        print(\"Error;\",e)\n",
    "\n",
    "get_integers()"
   ]
  },
  {
   "cell_type": "code",
   "execution_count": null,
   "id": "b8fefe5b-12fb-4fab-af8e-f716fbde9901",
   "metadata": {},
   "outputs": [],
   "source": [
    "Excersice 6"
   ]
  },
  {
   "cell_type": "code",
   "execution_count": 20,
   "id": "6cb9211f-bd61-4c3f-8e0b-d666763a40d8",
   "metadata": {},
   "outputs": [
    {
     "name": "stdin",
     "output_type": "stream",
     "text": [
      "Enter a list of integers separated by spaces: 4 6 8 9 11 15 16 20 28\n"
     ]
    },
    {
     "name": "stdout",
     "output_type": "stream",
     "text": [
      "The average is: 13.0\n",
      "Program has finished running\n"
     ]
    }
   ],
   "source": [
    "# Input a list of integers and compute the average of those integers\n",
    "\n",
    "def compute_average():\n",
    "    try:\n",
    "        user_input = input(\"Enter a list of integers separated by spaces:\")\n",
    "        numbers = [int(num) for num in user_input.split()]\n",
    "        average = sum(numbers) / len(numbers)\n",
    "        print(f\"The average is: {average}\")\n",
    "    except ValueError:\n",
    "        print(\"Error: Please enter only integers separated by spaces\")\n",
    "    except ZeroDivisionError:\n",
    "        print(\"Error: Without any values cannot compute the average\")\n",
    "    finally:\n",
    "        print(\"Program has finished running\")\n",
    "\n",
    "compute_average()"
   ]
  },
  {
   "cell_type": "code",
   "execution_count": null,
   "id": "52e5e92e-fac6-4f66-a022-41287b4f9bd8",
   "metadata": {},
   "outputs": [],
   "source": [
    "Excersice 7"
   ]
  },
  {
   "cell_type": "code",
   "execution_count": 22,
   "id": "0a11a1ab-07cd-4737-8f9d-a09cea09faae",
   "metadata": {},
   "outputs": [
    {
     "name": "stdin",
     "output_type": "stream",
     "text": [
      "Enter the filename: w\n"
     ]
    },
    {
     "name": "stdout",
     "output_type": "stream",
     "text": [
      "Welcome, File has been written sucessfully.\n",
      "Program has finished sucessfully\n"
     ]
    }
   ],
   "source": [
    "# input a file name and wrie a string to that file\n",
    "\n",
    "def write_file():\n",
    "    try:\n",
    "        filename = input (\"Enter the filename:\")\n",
    "        content = \"Welcome! This is a sample text written file.\"\n",
    "        with open(filename,'w') as file:\n",
    "            file.write(content)\n",
    "        print(\"Welcome, File has been written sucessfully.\")\n",
    "    except Exception as e:\n",
    "        print(f\"An error occured: {e}\")\n",
    "    finally:\n",
    "        print(\"Program has finished sucessfully\")\n",
    "\n",
    "write_file()"
   ]
  },
  {
   "cell_type": "code",
   "execution_count": null,
   "id": "9e1cacee-26a7-479d-bc13-fa02bdd4af88",
   "metadata": {},
   "outputs": [],
   "source": []
  }
 ],
 "metadata": {
  "kernelspec": {
   "display_name": "Python [conda env:base] *",
   "language": "python",
   "name": "conda-base-py"
  },
  "language_info": {
   "codemirror_mode": {
    "name": "ipython",
    "version": 3
   },
   "file_extension": ".py",
   "mimetype": "text/x-python",
   "name": "python",
   "nbconvert_exporter": "python",
   "pygments_lexer": "ipython3",
   "version": "3.12.7"
  }
 },
 "nbformat": 4,
 "nbformat_minor": 5
}
