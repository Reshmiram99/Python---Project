{
 "cells": [
  {
   "cell_type": "code",
   "execution_count": 5,
   "id": "5effe066-ef72-4d0f-97f0-9453eb2ad360",
   "metadata": {},
   "outputs": [],
   "source": [
    "# Importing Numpy and Pandas\n",
    "import numpy as np\n",
    "import pandas as pd"
   ]
  },
  {
   "cell_type": "code",
   "execution_count": null,
   "id": "5899e725-5302-4d10-bba9-1071f318a029",
   "metadata": {},
   "outputs": [],
   "source": [
    "Exercise 1"
   ]
  },
  {
   "cell_type": "code",
   "execution_count": 7,
   "id": "cd6841b8-089d-4661-8e42-aec734b4d7d5",
   "metadata": {},
   "outputs": [
    {
     "name": "stdout",
     "output_type": "stream",
     "text": [
      "The array1: [ 1  2  3  4  5  6  7  8  9 10]\n",
      "\n",
      "Reshaped 2*5 matrix:\n",
      " [[ 1  2  3  4  5]\n",
      " [ 6  7  8  9 10]]\n"
     ]
    }
   ],
   "source": [
    "# creating a numpy array containing numbers from 1 to 10 , then reshape it to 2*5 matrix\n",
    "\n",
    "array1 = np.arange(1,11)\n",
    "print('The array1:',array1)\n",
    "\n",
    "reshaped_array1 = array1.reshape(2,5)\n",
    "print(\"\\nReshaped 2*5 matrix:\\n\",reshaped_array1)"
   ]
  },
  {
   "cell_type": "code",
   "execution_count": null,
   "id": "ab0bbbbb-bedc-492b-bf75-9597bbb39766",
   "metadata": {},
   "outputs": [],
   "source": [
    "Exercise 2"
   ]
  },
  {
   "cell_type": "code",
   "execution_count": 9,
   "id": "f9ac6e00-b799-440d-837d-e069b537f73d",
   "metadata": {},
   "outputs": [
    {
     "name": "stdout",
     "output_type": "stream",
     "text": [
      "The array2: [ 1  2  3  4  5  6  7  8  9 10 11 12 13 14 15 16 17 18 19 20]\n",
      "\n",
      "Elements between 5th and 15th index: [ 6  7  8  9 10 11 12 13 14 15]\n"
     ]
    }
   ],
   "source": [
    "# Creating a numpy array containing numbers from 1 to 20, then extract the elements 5 to 15 index\n",
    "\n",
    "array2 = np.arange(1,21)\n",
    "print('The array2:',array2)\n",
    "\n",
    "extracted = array2[5:15]\n",
    "print('\\nElements between 5th and 15th index:',extracted)"
   ]
  },
  {
   "cell_type": "code",
   "execution_count": null,
   "id": "1a65710b-8b4b-4015-95ed-d97b326b5c7a",
   "metadata": {},
   "outputs": [],
   "source": [
    "Exercise 3"
   ]
  },
  {
   "cell_type": "code",
   "execution_count": 11,
   "id": "7d27db46-9a92-4464-b2a8-073a6dbe85ee",
   "metadata": {},
   "outputs": [
    {
     "name": "stdout",
     "output_type": "stream",
     "text": [
      "original_series:\n",
      "apples     3\n",
      "bananas    2\n",
      "oranges    1\n",
      "dtype: int64\n",
      "\n",
      "updated series:\n",
      "apples     3\n",
      "bananas    2\n",
      "oranges    1\n",
      "pears      4\n",
      "dtype: int64\n"
     ]
    }
   ],
   "source": [
    "# Creating a pandas series and add a new item to the series\n",
    "\n",
    "fruit_series = pd.Series ({'apples': 3, 'bananas': 2, 'oranges': 1 })\n",
    "print('original_series:')\n",
    "print(fruit_series)\n",
    "\n",
    "fruit_series['pears'] = 4\n",
    "print('\\nupdated series:')\n",
    "print(fruit_series)"
   ]
  },
  {
   "cell_type": "code",
   "execution_count": null,
   "id": "370419f0-980f-450b-90e9-3c27cdf46a55",
   "metadata": {},
   "outputs": [],
   "source": [
    "Exercise 4"
   ]
  },
  {
   "cell_type": "code",
   "execution_count": 13,
   "id": "55cd2075-d79d-4185-ac6b-348f25f6b9f1",
   "metadata": {},
   "outputs": [
    {
     "name": "stdout",
     "output_type": "stream",
     "text": [
      "DataFrame with 10 rows:\n"
     ]
    },
    {
     "data": {
      "text/html": [
       "<div>\n",
       "<style scoped>\n",
       "    .dataframe tbody tr th:only-of-type {\n",
       "        vertical-align: middle;\n",
       "    }\n",
       "\n",
       "    .dataframe tbody tr th {\n",
       "        vertical-align: top;\n",
       "    }\n",
       "\n",
       "    .dataframe thead th {\n",
       "        text-align: right;\n",
       "    }\n",
       "</style>\n",
       "<table border=\"1\" class=\"dataframe\">\n",
       "  <thead>\n",
       "    <tr style=\"text-align: right;\">\n",
       "      <th></th>\n",
       "      <th>name</th>\n",
       "      <th>age</th>\n",
       "      <th>gender</th>\n",
       "    </tr>\n",
       "  </thead>\n",
       "  <tbody>\n",
       "    <tr>\n",
       "      <th>0</th>\n",
       "      <td>Tony</td>\n",
       "      <td>25</td>\n",
       "      <td>M</td>\n",
       "    </tr>\n",
       "    <tr>\n",
       "      <th>1</th>\n",
       "      <td>Scarlet</td>\n",
       "      <td>30</td>\n",
       "      <td>F</td>\n",
       "    </tr>\n",
       "    <tr>\n",
       "      <th>2</th>\n",
       "      <td>Odins</td>\n",
       "      <td>22</td>\n",
       "      <td>M</td>\n",
       "    </tr>\n",
       "    <tr>\n",
       "      <th>3</th>\n",
       "      <td>Chris</td>\n",
       "      <td>35</td>\n",
       "      <td>M</td>\n",
       "    </tr>\n",
       "    <tr>\n",
       "      <th>4</th>\n",
       "      <td>Peter</td>\n",
       "      <td>40</td>\n",
       "      <td>M</td>\n",
       "    </tr>\n",
       "    <tr>\n",
       "      <th>5</th>\n",
       "      <td>Banner</td>\n",
       "      <td>29</td>\n",
       "      <td>M</td>\n",
       "    </tr>\n",
       "    <tr>\n",
       "      <th>6</th>\n",
       "      <td>Natasha</td>\n",
       "      <td>32</td>\n",
       "      <td>F</td>\n",
       "    </tr>\n",
       "    <tr>\n",
       "      <th>7</th>\n",
       "      <td>Shalin</td>\n",
       "      <td>26</td>\n",
       "      <td>F</td>\n",
       "    </tr>\n",
       "    <tr>\n",
       "      <th>8</th>\n",
       "      <td>Ivanya</td>\n",
       "      <td>27</td>\n",
       "      <td>F</td>\n",
       "    </tr>\n",
       "    <tr>\n",
       "      <th>9</th>\n",
       "      <td>Steve</td>\n",
       "      <td>38</td>\n",
       "      <td>M</td>\n",
       "    </tr>\n",
       "  </tbody>\n",
       "</table>\n",
       "</div>"
      ],
      "text/plain": [
       "      name  age gender\n",
       "0     Tony   25      M\n",
       "1  Scarlet   30      F\n",
       "2    Odins   22      M\n",
       "3    Chris   35      M\n",
       "4    Peter   40      M\n",
       "5   Banner   29      M\n",
       "6  Natasha   32      F\n",
       "7   Shalin   26      F\n",
       "8   Ivanya   27      F\n",
       "9    Steve   38      M"
      ]
     },
     "execution_count": 13,
     "metadata": {},
     "output_type": "execute_result"
    }
   ],
   "source": [
    "# Creating dataframe with 10 rows of sample data\n",
    "persons_data = {\n",
    "    'name': ['Tony', 'Scarlet', 'Odins', 'Chris', 'Peter', 'Banner', 'Natasha', 'Shalin', 'Ivanya', 'Steve'],\n",
    "    'age': [25, 30, 22, 35, 40, 29, 32, 26, 27, 38],\n",
    "    'gender': ['M', 'F', 'M', 'M', 'M', 'M', 'F', 'F', 'F', 'M']}\n",
    "\n",
    "df = pd.DataFrame(persons_data)\n",
    "print('DataFrame with 10 rows:')\n",
    "df"
   ]
  },
  {
   "cell_type": "code",
   "execution_count": null,
   "id": "ba09b13d-a5cb-49b9-9285-25ca95582470",
   "metadata": {},
   "outputs": [],
   "source": [
    "Exercise 5"
   ]
  },
  {
   "cell_type": "code",
   "execution_count": 15,
   "id": "c11e2334-94fe-4eda-a812-93f130176d97",
   "metadata": {},
   "outputs": [
    {
     "name": "stdout",
     "output_type": "stream",
     "text": [
      "DataFrame after adding occupation Column:\n"
     ]
    },
    {
     "data": {
      "text/html": [
       "<div>\n",
       "<style scoped>\n",
       "    .dataframe tbody tr th:only-of-type {\n",
       "        vertical-align: middle;\n",
       "    }\n",
       "\n",
       "    .dataframe tbody tr th {\n",
       "        vertical-align: top;\n",
       "    }\n",
       "\n",
       "    .dataframe thead th {\n",
       "        text-align: right;\n",
       "    }\n",
       "</style>\n",
       "<table border=\"1\" class=\"dataframe\">\n",
       "  <thead>\n",
       "    <tr style=\"text-align: right;\">\n",
       "      <th></th>\n",
       "      <th>name</th>\n",
       "      <th>age</th>\n",
       "      <th>gender</th>\n",
       "      <th>occupation</th>\n",
       "    </tr>\n",
       "  </thead>\n",
       "  <tbody>\n",
       "    <tr>\n",
       "      <th>0</th>\n",
       "      <td>Tony</td>\n",
       "      <td>25</td>\n",
       "      <td>M</td>\n",
       "      <td>Programmer</td>\n",
       "    </tr>\n",
       "    <tr>\n",
       "      <th>1</th>\n",
       "      <td>Scarlet</td>\n",
       "      <td>30</td>\n",
       "      <td>F</td>\n",
       "      <td>Manager</td>\n",
       "    </tr>\n",
       "    <tr>\n",
       "      <th>2</th>\n",
       "      <td>Odins</td>\n",
       "      <td>22</td>\n",
       "      <td>M</td>\n",
       "      <td>Analyst</td>\n",
       "    </tr>\n",
       "    <tr>\n",
       "      <th>3</th>\n",
       "      <td>Chris</td>\n",
       "      <td>35</td>\n",
       "      <td>M</td>\n",
       "      <td>Programmer</td>\n",
       "    </tr>\n",
       "    <tr>\n",
       "      <th>4</th>\n",
       "      <td>Peter</td>\n",
       "      <td>40</td>\n",
       "      <td>M</td>\n",
       "      <td>Manager</td>\n",
       "    </tr>\n",
       "    <tr>\n",
       "      <th>5</th>\n",
       "      <td>Banner</td>\n",
       "      <td>29</td>\n",
       "      <td>M</td>\n",
       "      <td>Analyst</td>\n",
       "    </tr>\n",
       "    <tr>\n",
       "      <th>6</th>\n",
       "      <td>Natasha</td>\n",
       "      <td>32</td>\n",
       "      <td>F</td>\n",
       "      <td>Programmer</td>\n",
       "    </tr>\n",
       "    <tr>\n",
       "      <th>7</th>\n",
       "      <td>Shalin</td>\n",
       "      <td>26</td>\n",
       "      <td>F</td>\n",
       "      <td>Manager</td>\n",
       "    </tr>\n",
       "    <tr>\n",
       "      <th>8</th>\n",
       "      <td>Ivanya</td>\n",
       "      <td>27</td>\n",
       "      <td>F</td>\n",
       "      <td>Analyst</td>\n",
       "    </tr>\n",
       "    <tr>\n",
       "      <th>9</th>\n",
       "      <td>Steve</td>\n",
       "      <td>38</td>\n",
       "      <td>M</td>\n",
       "      <td>Programmer</td>\n",
       "    </tr>\n",
       "  </tbody>\n",
       "</table>\n",
       "</div>"
      ],
      "text/plain": [
       "      name  age gender  occupation\n",
       "0     Tony   25      M  Programmer\n",
       "1  Scarlet   30      F     Manager\n",
       "2    Odins   22      M     Analyst\n",
       "3    Chris   35      M  Programmer\n",
       "4    Peter   40      M     Manager\n",
       "5   Banner   29      M     Analyst\n",
       "6  Natasha   32      F  Programmer\n",
       "7   Shalin   26      F     Manager\n",
       "8   Ivanya   27      F     Analyst\n",
       "9    Steve   38      M  Programmer"
      ]
     },
     "execution_count": 15,
     "metadata": {},
     "output_type": "execute_result"
    }
   ],
   "source": [
    "# Adding new column to the dataframe \n",
    "\n",
    "df['occupation'] = ['Programmer', 'Manager', 'Analyst', 'Programmer', 'Manager', 'Analyst', 'Programmer', 'Manager', 'Analyst', 'Programmer']\n",
    "print('DataFrame after adding occupation Column:')\n",
    "df"
   ]
  },
  {
   "cell_type": "code",
   "execution_count": null,
   "id": "ffebf674-6c6a-49ca-b453-7be9b916cdfc",
   "metadata": {},
   "outputs": [],
   "source": [
    "Exercise 6"
   ]
  },
  {
   "cell_type": "code",
   "execution_count": 17,
   "id": "82be6b4a-03ea-411d-9b4b-f1d7dc3a9ac6",
   "metadata": {},
   "outputs": [
    {
     "name": "stdout",
     "output_type": "stream",
     "text": [
      "Peoples with age above 30:\n"
     ]
    },
    {
     "data": {
      "text/html": [
       "<div>\n",
       "<style scoped>\n",
       "    .dataframe tbody tr th:only-of-type {\n",
       "        vertical-align: middle;\n",
       "    }\n",
       "\n",
       "    .dataframe tbody tr th {\n",
       "        vertical-align: top;\n",
       "    }\n",
       "\n",
       "    .dataframe thead th {\n",
       "        text-align: right;\n",
       "    }\n",
       "</style>\n",
       "<table border=\"1\" class=\"dataframe\">\n",
       "  <thead>\n",
       "    <tr style=\"text-align: right;\">\n",
       "      <th></th>\n",
       "      <th>name</th>\n",
       "      <th>age</th>\n",
       "      <th>gender</th>\n",
       "      <th>occupation</th>\n",
       "    </tr>\n",
       "  </thead>\n",
       "  <tbody>\n",
       "    <tr>\n",
       "      <th>1</th>\n",
       "      <td>Scarlet</td>\n",
       "      <td>30</td>\n",
       "      <td>F</td>\n",
       "      <td>Manager</td>\n",
       "    </tr>\n",
       "    <tr>\n",
       "      <th>3</th>\n",
       "      <td>Chris</td>\n",
       "      <td>35</td>\n",
       "      <td>M</td>\n",
       "      <td>Programmer</td>\n",
       "    </tr>\n",
       "    <tr>\n",
       "      <th>4</th>\n",
       "      <td>Peter</td>\n",
       "      <td>40</td>\n",
       "      <td>M</td>\n",
       "      <td>Manager</td>\n",
       "    </tr>\n",
       "    <tr>\n",
       "      <th>6</th>\n",
       "      <td>Natasha</td>\n",
       "      <td>32</td>\n",
       "      <td>F</td>\n",
       "      <td>Programmer</td>\n",
       "    </tr>\n",
       "    <tr>\n",
       "      <th>9</th>\n",
       "      <td>Steve</td>\n",
       "      <td>38</td>\n",
       "      <td>M</td>\n",
       "      <td>Programmer</td>\n",
       "    </tr>\n",
       "  </tbody>\n",
       "</table>\n",
       "</div>"
      ],
      "text/plain": [
       "      name  age gender  occupation\n",
       "1  Scarlet   30      F     Manager\n",
       "3    Chris   35      M  Programmer\n",
       "4    Peter   40      M     Manager\n",
       "6  Natasha   32      F  Programmer\n",
       "9    Steve   38      M  Programmer"
      ]
     },
     "execution_count": 17,
     "metadata": {},
     "output_type": "execute_result"
    }
   ],
   "source": [
    "# Filtering the persons by age is greater than or equal to 30\n",
    "\n",
    "filtered_age = df[df['age']>=30]\n",
    "print('Peoples with age above 30:')\n",
    "filtered_age"
   ]
  },
  {
   "cell_type": "code",
   "execution_count": null,
   "id": "0bb01d3a-2bc6-4ed3-9e0c-5f77dfb4549e",
   "metadata": {},
   "outputs": [],
   "source": [
    "Exercise 7"
   ]
  },
  {
   "cell_type": "code",
   "execution_count": 19,
   "id": "ec057513-7c52-4ca0-afff-f4ef3abf7d13",
   "metadata": {},
   "outputs": [
    {
     "name": "stdout",
     "output_type": "stream",
     "text": [
      "DataFrame saved sucessfully as csv file\n",
      "Read and displaying the saved csv file\n"
     ]
    },
    {
     "data": {
      "text/html": [
       "<div>\n",
       "<style scoped>\n",
       "    .dataframe tbody tr th:only-of-type {\n",
       "        vertical-align: middle;\n",
       "    }\n",
       "\n",
       "    .dataframe tbody tr th {\n",
       "        vertical-align: top;\n",
       "    }\n",
       "\n",
       "    .dataframe thead th {\n",
       "        text-align: right;\n",
       "    }\n",
       "</style>\n",
       "<table border=\"1\" class=\"dataframe\">\n",
       "  <thead>\n",
       "    <tr style=\"text-align: right;\">\n",
       "      <th></th>\n",
       "      <th>name</th>\n",
       "      <th>age</th>\n",
       "      <th>gender</th>\n",
       "      <th>occupation</th>\n",
       "    </tr>\n",
       "  </thead>\n",
       "  <tbody>\n",
       "    <tr>\n",
       "      <th>0</th>\n",
       "      <td>Tony</td>\n",
       "      <td>25</td>\n",
       "      <td>M</td>\n",
       "      <td>Programmer</td>\n",
       "    </tr>\n",
       "    <tr>\n",
       "      <th>1</th>\n",
       "      <td>Scarlet</td>\n",
       "      <td>30</td>\n",
       "      <td>F</td>\n",
       "      <td>Manager</td>\n",
       "    </tr>\n",
       "    <tr>\n",
       "      <th>2</th>\n",
       "      <td>Odins</td>\n",
       "      <td>22</td>\n",
       "      <td>M</td>\n",
       "      <td>Analyst</td>\n",
       "    </tr>\n",
       "    <tr>\n",
       "      <th>3</th>\n",
       "      <td>Chris</td>\n",
       "      <td>35</td>\n",
       "      <td>M</td>\n",
       "      <td>Programmer</td>\n",
       "    </tr>\n",
       "    <tr>\n",
       "      <th>4</th>\n",
       "      <td>Peter</td>\n",
       "      <td>40</td>\n",
       "      <td>M</td>\n",
       "      <td>Manager</td>\n",
       "    </tr>\n",
       "    <tr>\n",
       "      <th>5</th>\n",
       "      <td>Banner</td>\n",
       "      <td>29</td>\n",
       "      <td>M</td>\n",
       "      <td>Analyst</td>\n",
       "    </tr>\n",
       "    <tr>\n",
       "      <th>6</th>\n",
       "      <td>Natasha</td>\n",
       "      <td>32</td>\n",
       "      <td>F</td>\n",
       "      <td>Programmer</td>\n",
       "    </tr>\n",
       "    <tr>\n",
       "      <th>7</th>\n",
       "      <td>Shalin</td>\n",
       "      <td>26</td>\n",
       "      <td>F</td>\n",
       "      <td>Manager</td>\n",
       "    </tr>\n",
       "    <tr>\n",
       "      <th>8</th>\n",
       "      <td>Ivanya</td>\n",
       "      <td>27</td>\n",
       "      <td>F</td>\n",
       "      <td>Analyst</td>\n",
       "    </tr>\n",
       "    <tr>\n",
       "      <th>9</th>\n",
       "      <td>Steve</td>\n",
       "      <td>38</td>\n",
       "      <td>M</td>\n",
       "      <td>Programmer</td>\n",
       "    </tr>\n",
       "  </tbody>\n",
       "</table>\n",
       "</div>"
      ],
      "text/plain": [
       "      name  age gender  occupation\n",
       "0     Tony   25      M  Programmer\n",
       "1  Scarlet   30      F     Manager\n",
       "2    Odins   22      M     Analyst\n",
       "3    Chris   35      M  Programmer\n",
       "4    Peter   40      M     Manager\n",
       "5   Banner   29      M     Analyst\n",
       "6  Natasha   32      F  Programmer\n",
       "7   Shalin   26      F     Manager\n",
       "8   Ivanya   27      F     Analyst\n",
       "9    Steve   38      M  Programmer"
      ]
     },
     "execution_count": 19,
     "metadata": {},
     "output_type": "execute_result"
    }
   ],
   "source": [
    "# Saving the dataframe into a csv file and read that file \n",
    "\n",
    "df.to_csv('Employees_data_Avng.csv', index = False)\n",
    "print(\"DataFrame saved sucessfully as csv file\")\n",
    "\n",
    "df_read = pd.read_csv('Employees_data_Avng.csv')\n",
    "print('Read and displaying the saved csv file')\n",
    "df_read"
   ]
  },
  {
   "cell_type": "code",
   "execution_count": null,
   "id": "f89bbd2c-4624-4da4-bd6d-972d30990f8c",
   "metadata": {},
   "outputs": [],
   "source": []
  }
 ],
 "metadata": {
  "kernelspec": {
   "display_name": "Python [conda env:base] *",
   "language": "python",
   "name": "conda-base-py"
  },
  "language_info": {
   "codemirror_mode": {
    "name": "ipython",
    "version": 3
   },
   "file_extension": ".py",
   "mimetype": "text/x-python",
   "name": "python",
   "nbconvert_exporter": "python",
   "pygments_lexer": "ipython3",
   "version": "3.12.7"
  }
 },
 "nbformat": 4,
 "nbformat_minor": 5
}
