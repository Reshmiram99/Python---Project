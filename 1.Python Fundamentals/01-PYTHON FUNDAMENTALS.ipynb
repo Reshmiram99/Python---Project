{
 "cells": [
  {
   "cell_type": "code",
   "execution_count": 3,
   "id": "6600008f-62da-402b-992b-c2c597add7bb",
   "metadata": {},
   "outputs": [
    {
     "name": "stdout",
     "output_type": "stream",
     "text": [
      "Name: Reshmi Ram\n",
      "Student_number: ST1001\n",
      "Email: reshmiram@gmail.com\n"
     ]
    }
   ],
   "source": [
    "#1. print name, student number and email address\n",
    "print('Name:','Reshmi Ram')\n",
    "print('Student_number:','ST1001')\n",
    "print('Email:','reshmiram@gmail.com')"
   ]
  },
  {
   "cell_type": "code",
   "execution_count": 5,
   "id": "cbacd131-295b-4c5f-add6-8c07208a1961",
   "metadata": {},
   "outputs": [
    {
     "name": "stdout",
     "output_type": "stream",
     "text": [
      "Reshmi Ram\n",
      "ST1001\n",
      "reshmiram@gmail.com\n"
     ]
    }
   ],
   "source": [
    "#2. print  name, student number and email address using escape sequences\n",
    "\n",
    "print(\"Reshmi Ram\\nST1001\\nreshmiram@gmail.com\")"
   ]
  },
  {
   "cell_type": "code",
   "execution_count": 7,
   "id": "c1439ec1-0588-476c-bd20-7c3d7cb63726",
   "metadata": {},
   "outputs": [
    {
     "name": "stdout",
     "output_type": "stream",
     "text": [
      "14 + 7 = 21\n",
      "14 * 7 = 98\n",
      "14 - 7 = 7\n",
      "14 / 7 = 2.0\n"
     ]
    }
   ],
   "source": [
    "#3. add, subtract, multiply and divide the two numbers\n",
    "\n",
    "num1 = 14\n",
    "num2 = 7\n",
    "\n",
    "print(f\"{num1} + {num2} = {num1 + num2}\")\n",
    "print(f\"{num1} * {num2} = {num1 * num2}\")\n",
    "print(f\"{num1} - {num2} = {num1 - num2}\")\n",
    "print(f\"{num1} / {num2} = {num1 / num2}\")"
   ]
  },
  {
   "cell_type": "code",
   "execution_count": 9,
   "id": "051b95d8-daf2-4492-8cd5-87ced18ab6be",
   "metadata": {},
   "outputs": [
    {
     "name": "stdout",
     "output_type": "stream",
     "text": [
      "1\n",
      "2\n",
      "3\n",
      "4\n",
      "5\n"
     ]
    }
   ],
   "source": [
    "#4. print the numbers from 1 to 5 range\n",
    "\n",
    "for i in range (1,6):\n",
    "    print(i)"
   ]
  },
  {
   "cell_type": "code",
   "execution_count": 11,
   "id": "fe818b8c-eb93-4bab-ac13-03929409adf2",
   "metadata": {},
   "outputs": [
    {
     "name": "stdout",
     "output_type": "stream",
     "text": [
      "\"SDK\" stands for \"Software Development Kit\", whereas\n",
      "\"IDE\" stands for \"Integrated Development Environment\".\n"
     ]
    }
   ],
   "source": [
    "#5. Using print function with quotation mark and line breaks\n",
    "\n",
    "print ('\"SDK\" stands for \"Software Development Kit\", whereas\\n\"IDE\" stands for \"Integrated Development Environment\".')"
   ]
  },
  {
   "cell_type": "code",
   "execution_count": 15,
   "id": "fe3b6088-4167-482e-bc4d-8526406905fe",
   "metadata": {},
   "outputs": [
    {
     "name": "stdout",
     "output_type": "stream",
     "text": [
      "python is an \"awesome\" language.\n",
      "python\n",
      "\t2023\n",
      "I'm from Entri.\n",
      "5\n",
      "e\n",
      "Entri\n",
      "2023\n",
      "Entr2023\n",
      "Entri*20"
     ]
    }
   ],
   "source": [
    "#6. Practice and check the outputs\n",
    "\n",
    "print(\"python is an \\\"awesome\\\" language.\")\n",
    "print(\"python\\n\\t2023\")\n",
    "print('I\\'m from Entri. \\b')\n",
    "print(\"\\65\")\n",
    "print(\"\\x65\")\n",
    "print(\"Entri\", \"2023\", sep=\"\\n\")\n",
    "print(\"Entri\", \"2023\", sep=\"\\b\")\n",
    "print(\"Entri\", \"2023\", sep=\"*\", end=\"\\b\\b\\b\\b\")"
   ]
  },
  {
   "cell_type": "code",
   "execution_count": 17,
   "id": "a576e68c-f0f9-4121-84fb-ab3c64a69c97",
   "metadata": {},
   "outputs": [
    {
     "name": "stdout",
     "output_type": "stream",
     "text": [
      "Type of num: <class 'int'>\n",
      "Type of textum: <class 'str'>\n",
      "Type of decimal: <class 'float'>\n"
     ]
    }
   ],
   "source": [
    "#7. print the type of each variable\n",
    "\n",
    "num = 23\n",
    "textum = \"57\"\n",
    "decimal = 98.3\n",
    "\n",
    "print(\"Type of num:\",type(num))\n",
    "print(\"Type of textum:\",type(textum))\n",
    "print(\"Type of decimal:\",type(decimal))"
   ]
  },
  {
   "cell_type": "code",
   "execution_count": 19,
   "id": "437ded9e-1f5b-4ea1-bd7d-ecff2342075a",
   "metadata": {},
   "outputs": [
    {
     "name": "stdout",
     "output_type": "stream",
     "text": [
      "sum of variables: 178.3\n",
      "Type of total: <class 'float'>\n"
     ]
    }
   ],
   "source": [
    "# Sum of varibales\n",
    "total = num + int(textum) + decimal\n",
    "print(f\"sum of variables: {total}\")\n",
    "print(f\"Type of total: {type(total)}\")"
   ]
  },
  {
   "cell_type": "code",
   "execution_count": 21,
   "id": "01739a0f-b7f5-41d1-b430-dc694fc8c32c",
   "metadata": {},
   "outputs": [
    {
     "name": "stdout",
     "output_type": "stream",
     "text": [
      "Total number of minutes in a year: 525600\n"
     ]
    }
   ],
   "source": [
    "#8. calculate number of minutes in a year \n",
    "\n",
    "days_in_year = 365\n",
    "hours_in_day = 24\n",
    "minutes_in_hour = 60\n",
    "\n",
    "total_minutes = days_in_year * hours_in_day * minutes_in_hour\n",
    "print(f\"Total number of minutes in a year: {total_minutes}\")"
   ]
  },
  {
   "cell_type": "code",
   "execution_count": 23,
   "id": "46c24af0-b79e-4791-9f1f-f84662cc639c",
   "metadata": {},
   "outputs": [
    {
     "name": "stdin",
     "output_type": "stream",
     "text": [
      "Please enter your name Reshmi Ram\n"
     ]
    },
    {
     "name": "stdout",
     "output_type": "stream",
     "text": [
      "Hi Reshmi Ram, Welcome to Python programming :)\n"
     ]
    }
   ],
   "source": [
    "#9. Ask user for their name and greet them\n",
    "\n",
    "name = input(\"Please enter your name\")\n",
    "print(f\"Hi {name}, Welcome to Python programming :)\")"
   ]
  },
  {
   "cell_type": "code",
   "execution_count": 27,
   "id": "40f81b3f-ec9d-4929-8a28-16dbbd05da6b",
   "metadata": {},
   "outputs": [
    {
     "name": "stdin",
     "output_type": "stream",
     "text": [
      "Please enter the amount in pounds: 50.0\n"
     ]
    },
    {
     "name": "stdout",
     "output_type": "stream",
     "text": [
      "£50.0 are $63.5\n"
     ]
    }
   ],
   "source": [
    "#10. Converting pounds to dollars\n",
    "\n",
    "Exchange_Rate = 1.27\n",
    "pounds = float(input(\"Please enter the amount in pounds:\"))\n",
    "dollars = pounds * Exchange_Rate\n",
    "print(f\"£{pounds} are ${dollars}\")"
   ]
  },
  {
   "cell_type": "code",
   "execution_count": null,
   "id": "7a6c7d20-9353-4ce1-97e3-ba271f01e7f6",
   "metadata": {},
   "outputs": [],
   "source": []
  }
 ],
 "metadata": {
  "kernelspec": {
   "display_name": "Python [conda env:base] *",
   "language": "python",
   "name": "conda-base-py"
  },
  "language_info": {
   "codemirror_mode": {
    "name": "ipython",
    "version": 3
   },
   "file_extension": ".py",
   "mimetype": "text/x-python",
   "name": "python",
   "nbconvert_exporter": "python",
   "pygments_lexer": "ipython3",
   "version": "3.12.7"
  }
 },
 "nbformat": 4,
 "nbformat_minor": 5
}
