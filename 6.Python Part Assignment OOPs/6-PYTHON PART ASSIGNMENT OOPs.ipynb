{
 "cells": [
  {
   "cell_type": "code",
   "execution_count": null,
   "id": "e6db1d79-4236-4eb4-9d63-427fa2065e54",
   "metadata": {},
   "outputs": [],
   "source": [
    "Exercise 1"
   ]
  },
  {
   "cell_type": "code",
   "execution_count": 1,
   "id": "7729f250-69c2-40bc-87e5-e8cc3e308774",
   "metadata": {},
   "outputs": [],
   "source": [
    "# Manage a university's course catalog\n",
    "\n",
    "#Base class\n",
    "class Course:\n",
    "    def __init__(self, course_code, course_name, credit_hours):\n",
    "        self.course_code = course_code\n",
    "        self.course_name = course_name\n",
    "        self.credit_hours = credit_hours\n",
    "\n",
    "    def Course_details(self):\n",
    "        return f\" Course code: {self.course_code}, Course name: {self.course_name}, Credit hours:{self.credit_hours}\"\n",
    "\n",
    "# subclass Core Courses\n",
    "class CoreCourse(Course):\n",
    "    def __init__(self, course_code, course_name, credit_hours, required_for_major):\n",
    "        super().__init__(course_code, course_name, credit_hours)\n",
    "        self.required_for_major = required_for_major\n",
    "\n",
    "    def CoreCourses_details(self):\n",
    "        return super().Course_details() + f\", Required for Major: {self.required_for_major}\"\n",
    "\n",
    "# subclass ElectiveCourse\n",
    "class ElectiveCourse(Course):\n",
    "    def __init__(self, course_code, course_name, credit_hours, elective_type):\n",
    "        super(). __init__(course_code, course_name, credit_hours)\n",
    "        self.elective_type = elective_type\n",
    "\n",
    "    def ElectiveCourse_details(self):\n",
    "        return super().Course_details() + f\", Elective Type: {self.elective_type}\""
   ]
  },
  {
   "cell_type": "code",
   "execution_count": 5,
   "id": "4ad60d86-08c6-4120-8747-be30796d1f15",
   "metadata": {},
   "outputs": [],
   "source": [
    "course = Course(\"CS101\", \"Introduction to Computer Science\", 3)\n",
    "core = CoreCourse('CS102', \"Data Visualization\",3,True)\n",
    "elective = ElectiveCourse('CS103', \"Data Science\",5,\"Technical\")"
   ]
  },
  {
   "cell_type": "code",
   "execution_count": 7,
   "id": "ed58110e-56b9-43e9-bc99-26dfff835e5b",
   "metadata": {},
   "outputs": [
    {
     "name": "stdout",
     "output_type": "stream",
     "text": [
      " Course code: CS101, Course name: Introduction to Computer Science, Credit hours:3\n",
      " Course code: CS102, Course name: Data Visualization, Credit hours:3, Required for Major: True\n",
      " Course code: CS103, Course name: Data Science, Credit hours:5, Elective Type: Technical\n"
     ]
    }
   ],
   "source": [
    "print(course.Course_details())      \n",
    "print(core.CoreCourses_details())  \n",
    "print(elective.ElectiveCourse_details())"
   ]
  },
  {
   "cell_type": "code",
   "execution_count": null,
   "id": "9d8d5e08-35b6-4690-898b-fd625fa89ee6",
   "metadata": {},
   "outputs": [],
   "source": [
    "Exercise 2"
   ]
  },
  {
   "cell_type": "code",
   "execution_count": 9,
   "id": "b878deec-f249-485d-96cd-f03050a39440",
   "metadata": {},
   "outputs": [],
   "source": [
    "# Create an object of the employee class and display its name and salary\n",
    "class Employee:\n",
    "    def __init__(self,name,salary):\n",
    "        self.name = name\n",
    "        self.salary = salary\n",
    "\n",
    "    def get_name(self):\n",
    "        return self.name\n",
    "\n",
    "    def get_salary(self):\n",
    "        return self.salary"
   ]
  },
  {
   "cell_type": "code",
   "execution_count": 11,
   "id": "ef86b73f-025f-4760-9d17-e7564786ab60",
   "metadata": {},
   "outputs": [],
   "source": [
    "Emp1 = Employee(\"Mathew David\",80000)"
   ]
  },
  {
   "cell_type": "code",
   "execution_count": 13,
   "id": "c857b987-c4d1-4c84-8a7c-1e40b329273d",
   "metadata": {},
   "outputs": [
    {
     "name": "stdout",
     "output_type": "stream",
     "text": [
      "Employee Name: Mathew David\n",
      "Salary: 80000\n"
     ]
    }
   ],
   "source": [
    "print(\"Employee Name:\", Emp1.get_name())\n",
    "print(\"Salary:\", Emp1.get_salary())"
   ]
  }
 ],
 "metadata": {
  "kernelspec": {
   "display_name": "Python [conda env:base] *",
   "language": "python",
   "name": "conda-base-py"
  },
  "language_info": {
   "codemirror_mode": {
    "name": "ipython",
    "version": 3
   },
   "file_extension": ".py",
   "mimetype": "text/x-python",
   "name": "python",
   "nbconvert_exporter": "python",
   "pygments_lexer": "ipython3",
   "version": "3.12.7"
  }
 },
 "nbformat": 4,
 "nbformat_minor": 5
}
