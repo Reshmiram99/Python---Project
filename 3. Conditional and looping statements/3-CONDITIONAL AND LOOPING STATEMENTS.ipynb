{
 "cells": [
  {
   "cell_type": "code",
   "execution_count": null,
   "id": "92035acf-74a5-484b-a77d-513b3844de77",
   "metadata": {},
   "outputs": [],
   "source": [
    "Exercise 1"
   ]
  },
  {
   "cell_type": "code",
   "execution_count": 1,
   "id": "91214312-d060-41e2-a85e-3da81fbb2316",
   "metadata": {},
   "outputs": [
    {
     "name": "stdin",
     "output_type": "stream",
     "text": [
      "Enter the Month number: 3\n"
     ]
    },
    {
     "name": "stdout",
     "output_type": "stream",
     "text": [
      "month 3 is March\n"
     ]
    }
   ],
   "source": [
    "# Reads an integer value between 1 and 12 from the user and prints output the corresponding month of the year.\n",
    "\n",
    "months = { 1: \"January\", 2: \"February\", 3: \"March\", 4: \"April\", 5:\"May\", 6: \"June\", \n",
    "          7: \"July\", 8: \"August\", 9: \"September\", 10: \"October\", 11: \"November\", 12: \"December\"}\n",
    "\n",
    "month_number = int(input(\"Enter the Month number:\"))\n",
    "\n",
    "if 1<= month_number <=12:\n",
    "    print(f\"month {month_number} is {months[month_number]}\")\n",
    "    \n",
    "else:\n",
    "    print(\"Invalid Month Number !!, please enter between 1 to 12.\")"
   ]
  },
  {
   "cell_type": "code",
   "execution_count": null,
   "id": "03b45170-7f7b-4522-810f-4ea46d65f954",
   "metadata": {},
   "outputs": [],
   "source": [
    "Exercise 2"
   ]
  },
  {
   "cell_type": "code",
   "execution_count": 3,
   "id": "a1d88f49-11dc-4205-ae09-16db2306a946",
   "metadata": {},
   "outputs": [
    {
     "name": "stdin",
     "output_type": "stream",
     "text": [
      "Enter your age 20\n"
     ]
    },
    {
     "name": "stdout",
     "output_type": "stream",
     "text": [
      "Your ticket costs £6\n"
     ]
    }
   ],
   "source": [
    "# Calculating the Ticket price based on age, full price is 6 pounds, who are less than 16 years half price and third of the price for people who are 60 years old or more\n",
    "\n",
    "def calculate_ticket_price(age):\n",
    "    \n",
    "    full_price = 6 \n",
    "    \n",
    "    if age < 16:\n",
    "        return full_price / 2       \n",
    "    elif age >= 60:\n",
    "        return full_price / 3        \n",
    "    else:\n",
    "        return full_price\n",
    "        \n",
    "age = int(input(\"Enter your age\"))\n",
    "\n",
    "if age < 1:\n",
    "    print(\"Invalid age !!, Age cannot be less than 1 please enter a valid age.\")\n",
    "\n",
    "else :\n",
    "    ticket_price = calculate_ticket_price(age)\n",
    "    print(f\"Your ticket costs £{ticket_price}\")"
   ]
  },
  {
   "cell_type": "code",
   "execution_count": null,
   "id": "7718ce25-427a-4642-8640-e3f37b7e797b",
   "metadata": {},
   "outputs": [],
   "source": [
    "Exercise 3"
   ]
  },
  {
   "cell_type": "code",
   "execution_count": 9,
   "id": "448389b9-d098-453e-9de4-1428fb4ab243",
   "metadata": {},
   "outputs": [
    {
     "name": "stdin",
     "output_type": "stream",
     "text": [
      "Enter your weight in (Kg):  88\n",
      "Enter your height in (m):  1.57\n"
     ]
    },
    {
     "name": "stdout",
     "output_type": "stream",
     "text": [
      "Your BMI is: 35.70\n",
      "You are in the “Obese” range.\n"
     ]
    }
   ],
   "source": [
    "# Calculating BMI and give weight status\n",
    "\n",
    "def calculating_bmi(weight,height):\n",
    "    return weight / (height ** 2)\n",
    "\n",
    "def bmi_status(bmi):\n",
    "\n",
    "    if bmi < 18.5:\n",
    "        return \"UnderWeight\"\n",
    "    elif 18.5 <= bmi <= 24.9:\n",
    "        return \"Normal\"\n",
    "    elif 25 <= bmi <= 29.9:\n",
    "        return \"OverWeight\"\n",
    "    else:\n",
    "        return \"Obese\"\n",
    "\n",
    "weight = float(input(\"Enter your weight in (Kg): \"))\n",
    "height = float(input(\"Enter your height in (m): \"))\n",
    "\n",
    "bmi = calculating_bmi(weight,height)\n",
    "\n",
    "print(f\"Your BMI is: {bmi:.2f}\")\n",
    "\n",
    "status = bmi_status(bmi)\n",
    "\n",
    "\n",
    "print(f\"You are in the “{status}” range.\")"
   ]
  },
  {
   "cell_type": "code",
   "execution_count": null,
   "id": "1a0d68ff-c88a-493f-8c3d-2132d4b76c53",
   "metadata": {},
   "outputs": [],
   "source": [
    "Exercise 4"
   ]
  },
  {
   "cell_type": "code",
   "execution_count": 11,
   "id": "84455516-4eac-47e0-9521-6076f9c1c0d9",
   "metadata": {},
   "outputs": [
    {
     "name": "stdin",
     "output_type": "stream",
     "text": [
      "Enter the first number:  60\n",
      "Enter the second number: 72\n",
      "Enter the third number:  80\n"
     ]
    },
    {
     "name": "stdout",
     "output_type": "stream",
     "text": [
      "The greatest number is: 80\n"
     ]
    }
   ],
   "source": [
    "# print the greatest number from the user entered 3 numbers\n",
    "\n",
    "def greatest_number (num1,num2,num3):\n",
    "    \n",
    "    if num1 >= num2 and num1 >= num3:\n",
    "        return num1\n",
    "    elif num2 >= num1 and num2 >= num3:\n",
    "        return num2\n",
    "    else: \n",
    "        return num3\n",
    "\n",
    "num1 = float(input(\"Enter the first number: \"))\n",
    "num2 = float(input(\"Enter the second number:\"))\n",
    "num3 = float(input(\"Enter the third number: \"))\n",
    "\n",
    "greatest = greatest_number (num1,num2,num3)\n",
    "print(f\"The greatest number is: {greatest:.0f}\")"
   ]
  },
  {
   "cell_type": "code",
   "execution_count": null,
   "id": "0651b3da-627c-4029-b9af-965c39304444",
   "metadata": {},
   "outputs": [],
   "source": [
    "Excercise 5"
   ]
  },
  {
   "cell_type": "code",
   "execution_count": 15,
   "id": "e381d963-19d6-478d-abe9-a7b18712b864",
   "metadata": {},
   "outputs": [
    {
     "name": "stdin",
     "output_type": "stream",
     "text": [
      "Enter a number to find its factorial:  6\n"
     ]
    },
    {
     "name": "stdout",
     "output_type": "stream",
     "text": [
      "The factorial of 6 is: 720\n"
     ]
    }
   ],
   "source": [
    "# Factorial of a given number using loops\n",
    "\n",
    "num = int(input(\"Enter a number to find its factorial: \"))\n",
    "\n",
    "factorial = 1\n",
    "for i in range(1, num + 1):\n",
    "    factorial *= i\n",
    "\n",
    "print(f\"The factorial of {num} is: {factorial}\")"
   ]
  },
  {
   "cell_type": "code",
   "execution_count": null,
   "id": "4b0441ac-091d-4fd0-b623-f90a0030bfe1",
   "metadata": {},
   "outputs": [],
   "source": [
    "Excercise 6"
   ]
  },
  {
   "cell_type": "code",
   "execution_count": 17,
   "id": "b86b0f3a-34b7-4240-96fa-62dbc7d8dd03",
   "metadata": {},
   "outputs": [
    {
     "name": "stdin",
     "output_type": "stream",
     "text": [
      "Enter a number:  124578\n"
     ]
    },
    {
     "name": "stdout",
     "output_type": "stream",
     "text": [
      "The reversed number is: 875421\n"
     ]
    }
   ],
   "source": [
    "# Reverse a number using while loop\n",
    "\n",
    "num = int(input(\"Enter a number: \"))\n",
    "\n",
    "reversed_num = 0\n",
    "while num > 0:\n",
    "    digit = num % 10\n",
    "    reversed_num = reversed_num * 10 + digit\n",
    "    num //= 10\n",
    "\n",
    "print(f\"The reversed number is: {reversed_num}\")"
   ]
  },
  {
   "cell_type": "code",
   "execution_count": null,
   "id": "bbe3e9de-fbb3-4646-bf25-7914858b43ac",
   "metadata": {},
   "outputs": [],
   "source": [
    "Excercise 7"
   ]
  },
  {
   "cell_type": "code",
   "execution_count": 19,
   "id": "2f943ab6-5a46-4794-8f93-0dfc6d507a43",
   "metadata": {},
   "outputs": [
    {
     "name": "stdin",
     "output_type": "stream",
     "text": [
      "Enter a number:  8\n",
      "Enter the limit:  100\n"
     ]
    },
    {
     "name": "stdout",
     "output_type": "stream",
     "text": [
      "The multiples of 8 up to 100 are:\n",
      "8\n",
      "16\n",
      "24\n",
      "32\n",
      "40\n",
      "48\n",
      "56\n",
      "64\n",
      "72\n",
      "80\n",
      "88\n",
      "96\n"
     ]
    }
   ],
   "source": [
    "# Finding the multiple of a number using loop\n",
    "\n",
    "num = int(input(\"Enter a number: \"))\n",
    "limit = int(input(\"Enter the limit: \"))\n",
    "\n",
    "\n",
    "print(f\"The multiples of {num} up to {limit} are:\")\n",
    "for i in range(1, limit + 1):\n",
    "    multiple = num * i\n",
    "    if multiple <= limit:\n",
    "        print(multiple)"
   ]
  },
  {
   "cell_type": "code",
   "execution_count": null,
   "id": "0f7652e9-e533-4f05-97c7-53b6d018fe85",
   "metadata": {},
   "outputs": [],
   "source": [
    "Excercise 8"
   ]
  },
  {
   "cell_type": "code",
   "execution_count": 21,
   "id": "a153a17b-a2b2-4a1b-a6e9-ce6ebc00f34f",
   "metadata": {},
   "outputs": [
    {
     "name": "stdin",
     "output_type": "stream",
     "text": [
      "Enter a value:  2\n",
      "Enter a value:  4\n",
      "Enter a value:  6\n",
      "Enter a value:  8\n",
      "Enter a value:  10\n",
      "Enter a value:  20\n",
      "Enter a value:  40\n",
      "Enter a value:  80\n",
      "Enter a value:  done\n"
     ]
    },
    {
     "name": "stdout",
     "output_type": "stream",
     "text": [
      "Done\n"
     ]
    }
   ],
   "source": [
    "# Print the inputted value as it is and break the loop if the value is \"done\"\n",
    "\n",
    "while True:\n",
    "  \n",
    "    user_input = input(\"Enter a value: \")\n",
    "\n",
    "    if user_input.lower() == 'done':\n",
    "        print(\"Done\")\n",
    "        break"
   ]
  },
  {
   "cell_type": "code",
   "execution_count": null,
   "id": "0226f70a-a4de-4aa9-9978-9024e7e842bf",
   "metadata": {},
   "outputs": [],
   "source": [
    "Excercise 9"
   ]
  },
  {
   "cell_type": "code",
   "execution_count": 23,
   "id": "f7ace658-122f-4492-ac82-b60254038349",
   "metadata": {},
   "outputs": [
    {
     "name": "stdout",
     "output_type": "stream",
     "text": [
      "1\n",
      "2\n",
      "Fizz\n",
      "4\n",
      "Buzz\n",
      "Fizz\n",
      "7\n",
      "8\n",
      "Fizz\n",
      "Buzz\n"
     ]
    }
   ],
   "source": [
    "# prints the numbers from 1 to 10. But for multiples of three print \"Fizz\" instead of the number and for the multiple of five print \"Buzz\". For numbers which are multiples of both three and five print \"FizzBuzz\"\n",
    "\n",
    "for i in range(1, 11):\n",
    "    if i % 3 == 0 and i % 5 == 0:\n",
    "        print(\"FizzBuzz\")\n",
    "    elif i % 3 == 0:\n",
    "        print(\"Fizz\")\n",
    "    elif i % 5 == 0:\n",
    "        print(\"Buzz\")\n",
    "    else:\n",
    "        print(i)"
   ]
  },
  {
   "cell_type": "code",
   "execution_count": null,
   "id": "9c20f260-23a1-4cde-b616-ef9bd2d5cb0e",
   "metadata": {},
   "outputs": [],
   "source": [
    "Excercise 10"
   ]
  },
  {
   "cell_type": "code",
   "execution_count": 25,
   "id": "28d12b7c-4918-408c-b621-635016571307",
   "metadata": {},
   "outputs": [
    {
     "name": "stdout",
     "output_type": "stream",
     "text": [
      "5 4 3 2 1 \n",
      "4 3 2 1 \n",
      "3 2 1 \n",
      "2 1 \n",
      "1 \n"
     ]
    }
   ],
   "source": [
    "# pattern printing\n",
    "\n",
    "for i in range(5, 0, -1):\n",
    "    for j in range(i, 0, -1):\n",
    "        print(j, end=\" \")\n",
    "    print()"
   ]
  },
  {
   "cell_type": "code",
   "execution_count": null,
   "id": "0ab10c21-2b7c-49f6-b039-be0b6a3a497d",
   "metadata": {},
   "outputs": [],
   "source": []
  }
 ],
 "metadata": {
  "kernelspec": {
   "display_name": "Python [conda env:base] *",
   "language": "python",
   "name": "conda-base-py"
  },
  "language_info": {
   "codemirror_mode": {
    "name": "ipython",
    "version": 3
   },
   "file_extension": ".py",
   "mimetype": "text/x-python",
   "name": "python",
   "nbconvert_exporter": "python",
   "pygments_lexer": "ipython3",
   "version": "3.12.7"
  }
 },
 "nbformat": 4,
 "nbformat_minor": 5
}
